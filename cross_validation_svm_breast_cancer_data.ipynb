{
 "cells": [
  {
   "cell_type": "code",
   "execution_count": 201,
   "metadata": {
    "collapsed": false
   },
   "outputs": [],
   "source": [
    "import pandas as pd\n",
    "import csv\n",
    "import numpy as np\n",
    "import matplotlib.pyplot as plt\n",
    "\n",
    "%matplotlib inline"
   ]
  },
  {
   "cell_type": "code",
   "execution_count": 202,
   "metadata": {
    "collapsed": true
   },
   "outputs": [],
   "source": [
    "data = pd.read_csv('breastcancer.csv')\n",
    "del data['Unnamed: 0']"
   ]
  },
  {
   "cell_type": "code",
   "execution_count": 246,
   "metadata": {
    "collapsed": false
   },
   "outputs": [
    {
     "data": {
      "text/html": [
       "<div>\n",
       "<table border=\"1\" class=\"dataframe\">\n",
       "  <thead>\n",
       "    <tr style=\"text-align: right;\">\n",
       "      <th></th>\n",
       "      <th>Id</th>\n",
       "      <th>Cl.thickness</th>\n",
       "      <th>Cell.size</th>\n",
       "      <th>Cell.shape</th>\n",
       "      <th>Marg.adhesion</th>\n",
       "      <th>Epith.c.size</th>\n",
       "      <th>Bare.nuclei</th>\n",
       "      <th>Bl.cromatin</th>\n",
       "      <th>Normal.nucleoli</th>\n",
       "      <th>Mitoses</th>\n",
       "      <th>Class</th>\n",
       "    </tr>\n",
       "  </thead>\n",
       "  <tbody>\n",
       "    <tr>\n",
       "      <th>0</th>\n",
       "      <td>1000025</td>\n",
       "      <td>5</td>\n",
       "      <td>1</td>\n",
       "      <td>1</td>\n",
       "      <td>1</td>\n",
       "      <td>2</td>\n",
       "      <td>1</td>\n",
       "      <td>3</td>\n",
       "      <td>1</td>\n",
       "      <td>1</td>\n",
       "      <td>benign</td>\n",
       "    </tr>\n",
       "    <tr>\n",
       "      <th>1</th>\n",
       "      <td>1002945</td>\n",
       "      <td>5</td>\n",
       "      <td>4</td>\n",
       "      <td>4</td>\n",
       "      <td>5</td>\n",
       "      <td>7</td>\n",
       "      <td>10</td>\n",
       "      <td>3</td>\n",
       "      <td>2</td>\n",
       "      <td>1</td>\n",
       "      <td>benign</td>\n",
       "    </tr>\n",
       "    <tr>\n",
       "      <th>2</th>\n",
       "      <td>1015425</td>\n",
       "      <td>3</td>\n",
       "      <td>1</td>\n",
       "      <td>1</td>\n",
       "      <td>1</td>\n",
       "      <td>2</td>\n",
       "      <td>2</td>\n",
       "      <td>3</td>\n",
       "      <td>1</td>\n",
       "      <td>1</td>\n",
       "      <td>benign</td>\n",
       "    </tr>\n",
       "    <tr>\n",
       "      <th>3</th>\n",
       "      <td>1016277</td>\n",
       "      <td>6</td>\n",
       "      <td>8</td>\n",
       "      <td>8</td>\n",
       "      <td>1</td>\n",
       "      <td>3</td>\n",
       "      <td>4</td>\n",
       "      <td>3</td>\n",
       "      <td>7</td>\n",
       "      <td>1</td>\n",
       "      <td>benign</td>\n",
       "    </tr>\n",
       "    <tr>\n",
       "      <th>4</th>\n",
       "      <td>1017023</td>\n",
       "      <td>4</td>\n",
       "      <td>1</td>\n",
       "      <td>1</td>\n",
       "      <td>3</td>\n",
       "      <td>2</td>\n",
       "      <td>1</td>\n",
       "      <td>3</td>\n",
       "      <td>1</td>\n",
       "      <td>1</td>\n",
       "      <td>benign</td>\n",
       "    </tr>\n",
       "  </tbody>\n",
       "</table>\n",
       "</div>"
      ],
      "text/plain": [
       "        Id  Cl.thickness  Cell.size  Cell.shape  Marg.adhesion  Epith.c.size  \\\n",
       "0  1000025             5          1           1              1             2   \n",
       "1  1002945             5          4           4              5             7   \n",
       "2  1015425             3          1           1              1             2   \n",
       "3  1016277             6          8           8              1             3   \n",
       "4  1017023             4          1           1              3             2   \n",
       "\n",
       "   Bare.nuclei  Bl.cromatin  Normal.nucleoli  Mitoses   Class  \n",
       "0            1            3                1        1  benign  \n",
       "1           10            3                2        1  benign  \n",
       "2            2            3                1        1  benign  \n",
       "3            4            3                7        1  benign  \n",
       "4            1            3                1        1  benign  "
      ]
     },
     "execution_count": 246,
     "metadata": {},
     "output_type": "execute_result"
    }
   ],
   "source": [
    "data.head()"
   ]
  },
  {
   "cell_type": "code",
   "execution_count": 203,
   "metadata": {
    "collapsed": false
   },
   "outputs": [],
   "source": [
    "#should I drop the ID column???\n",
    "X = data.drop(['Id','Class'], axis=1)\n",
    "y = data.Class"
   ]
  },
  {
   "cell_type": "markdown",
   "metadata": {},
   "source": [
    "## Question a - Cross validation to build a classifier\n",
    "\n",
    "- Step 1 : Impute missing values\n",
    "- Step 2 : Split into training and testing set according to an arbitrary percentage\n",
    "- Step 3 : Scale continuous variables from training and testing set according to the same transformation\n",
    "- Step 4 : For a particular kernel apply k-fold cross validation on the training set for several parameters. Compute performances on each validation set and average them for each couple of parameters\n",
    "- Step 5 : Select the model that maximizes the performance\n",
    "- Step 6 : Compute test error with this classifier."
   ]
  },
  {
   "cell_type": "markdown",
   "metadata": {},
   "source": [
    "### Sources scikit-learn : \n",
    "Impute missing values : http://scikit-learn.org/stable/modules/preprocessing.html#imputation-of-missing-values\n",
    "\n",
    "Cross validation and scaling : http://scikit-learn.org/stable/modules/cross_validation.html\n",
    "\n",
    "SVM : http://scikit-learn.org/stable/modules/svm.html#svm\n",
    "    \n",
    "    "
   ]
  },
  {
   "cell_type": "code",
   "execution_count": 367,
   "metadata": {
    "collapsed": false,
    "scrolled": false
   },
   "outputs": [
    {
     "name": "stdout",
     "output_type": "stream",
     "text": [
      "We apply k-fold cross validation for k = 10 to select the best SVM classifier with a radial basis function kernel.\n",
      "\n",
      "\n",
      "The couple of parameters which maximizes the average cross-validation performance are (C , Gamma) = (0.1 , 0.01). \n",
      "In this case, the accuracy is 0.978.\n",
      "\n",
      "\n",
      "We fit the selected model on the entire training set and assess its performance on the testing set.\n",
      "The accuracy on the test set is 0.943 or the generalization error is 0.057.\n",
      "\n"
     ]
    }
   ],
   "source": [
    "from sklearn import cross_validation\n",
    "from sklearn import preprocessing\n",
    "from sklearn import svm\n",
    "from sklearn.cross_validation import KFold\n",
    "from sklearn.metrics import accuracy_score\n",
    "\n",
    "#### Step 1 : impute missing values with the most frequent value\n",
    "imp = preprocessing.Imputer(missing_values = 'NaN', strategy = 'most_frequent', axis = 0)\n",
    "imp.fit(X)\n",
    "X_imp = pd.DataFrame(imp.transform(X), columns = X.columns)\n",
    "\n",
    "\n",
    "#### Step 2 : Split into training / testing sets\n",
    "\n",
    "# set the split ratio : 0.7 for training set\n",
    "# set random state to 0\n",
    "t = 0.7\n",
    "rdm = 0\n",
    "\n",
    "X_train, X_test, y_train, y_test = cross_validation.train_test_split(X_imp, y, test_size = 1 - t, random_state = rdm)\n",
    "\n",
    "\n",
    "#### Step 3 : scaling but here all variables are categorical or ordinal\n",
    "#scaler = preprocessing.StandardScaler().fit(X_train)\n",
    "#X_train = scaler.transform(X_train)\n",
    "#X_test = scaler.transform(X_test)\n",
    "\n",
    "\n",
    "#### Test SVM for C = 1, kernel function is RBF and gamma = 1/n_features in 'auto' mode\n",
    "clf = svm.SVC(C=1, gamma = 0.1, kernel = 'rbf', random_state = 0)\n",
    "clf.fit(X_train, y_train)\n",
    "pred_train = clf.predict(X_train)\n",
    "pred_test = clf.predict(X_test)\n",
    "# get support vectors\n",
    "clf.support_vectors_\n",
    "# get indices of support vectors\n",
    "clf.support_\n",
    "# get number of support vectors for each class\n",
    "clf.n_support_\n",
    "\n",
    "\n",
    "#### Step 4 : k-fold on the training set\n",
    "sample_size = len(X_train)\n",
    "K = 10\n",
    "kf = KFold(sample_size, n_folds = K) \n",
    "\n",
    "\n",
    "# we define the mean CV performance for each value of C\n",
    "mean_perf = dict()\n",
    "\n",
    "for Cpow in range(-3,5):\n",
    "    for Gpow in range(-5,3):\n",
    "            C = 10**Cpow\n",
    "            gamma = 10**Gpow\n",
    "            mean_perf[(Cpow,Gpow)] = []\n",
    "            \n",
    "            clf = svm.SVC(C = C, gamma = gamma, kernel = 'rbf', random_state = 0)\n",
    "\n",
    "            CV_perf = [] \n",
    "            # kf has 2 outputs : train and test\n",
    "            for train, test in kf:\n",
    "\n",
    "                train_fold, test_fold, train_output, test_output = \\\n",
    "                        X_train.iloc[train], X_train.iloc[test], y_train.iloc[train], y_train.iloc[test]\n",
    "\n",
    "                clf.fit(train_fold, train_output)\n",
    "                pred_test = clf.predict(test_fold)\n",
    "\n",
    "                CV_perf.append(accuracy_score(test_output, pred_test))\n",
    "\n",
    "            mean_perf[(Cpow,Gpow)] = np.mean(CV_perf)\n",
    "            \n",
    "print('We apply k-fold cross validation for k = '+ str(K) + \\\n",
    "     ' to select the best SVM classifier with a radial basis function kernel.\\n\\n')  \n",
    "\n",
    "#### Step 5 : Select best classifier \n",
    "# get key with maximum value\n",
    "max_key = max(mean_perf, key=lambda i: mean_perf[i])\n",
    "best_C = 10**max_key[0]\n",
    "best_gamma = 10**max_key[1]\n",
    "max_accu = round(float(mean_perf[max_key]),3)\n",
    "\n",
    "print('The couple of parameters which maximizes the average cross-validation performance are (C , Gamma) = (' \\\n",
    "      + str(best_C) + ' , ' + str(best_gamma) + \\\n",
    "        '). \\nIn this case, the accuracy is ' + str(max_accu) + '.\\n\\n')\n",
    "\n",
    "\n",
    "#### Step 6 : Fit new model on entire training set and test it\n",
    "clf = svm.SVC(C = best_C, gamma = best_gamma, kernel = 'rbf', random_state = 0)\n",
    "clf.fit(X_train, y_train)\n",
    "pred_test = clf.predict(X_test)\n",
    "test_perf = round(float(accuracy_score(y_test, pred_test)), 3)\n",
    "test_err = round(1 - test_perf,3)\n",
    "\n",
    "print('We fit the selected model on the entire training set and assess its performance on the testing set.' + \\\n",
    "     '\\nThe accuracy on the test set is ' + str(test_perf) + ' or the generalization error is ' + str(test_err) +'.\\n')"
   ]
  },
  {
   "cell_type": "markdown",
   "metadata": {},
   "source": [
    "To plot a 3D graph : http://matplotlib.org/examples/mplot3d/surface3d_demo.html "
   ]
  },
  {
   "cell_type": "markdown",
   "metadata": {},
   "source": [
    "## Question b - Repeat the procedure 50 times with different random samples"
   ]
  },
  {
   "cell_type": "markdown",
   "metadata": {},
   "source": [
    "Create a function with two inputs :\n",
    "    - the split ratio \n",
    "    - the random state \n",
    "    \n",
    "Compute mean and standard deviation.\n",
    "\n",
    "Plot graphs"
   ]
  },
  {
   "cell_type": "code",
   "execution_count": 374,
   "metadata": {
    "collapsed": true
   },
   "outputs": [],
   "source": [
    "def SVM_test_performance(t, rdm):\n",
    "\n",
    "    #### Step 2 : Split into training / testing sets\n",
    "    X_train, X_test, y_train, y_test = cross_validation.train_test_split(X_imp, y, test_size = 1 - t, random_state = rdm)\n",
    "\n",
    "\n",
    "    #### Step 4 : k-fold on the training set\n",
    "    sample_size = len(X_train)\n",
    "    K = 10\n",
    "    kf = KFold(sample_size, n_folds = K) \n",
    "\n",
    "\n",
    "    # we define the mean CV performance for each value of C\n",
    "    mean_perf = dict()\n",
    "\n",
    "    for Cpow in range(-3,2):\n",
    "        for Gpow in range(-4,2):\n",
    "                C = 10**Cpow\n",
    "                gamma = 10**Gpow\n",
    "                mean_perf[(Cpow,Gpow)] = []\n",
    "\n",
    "                clf = svm.SVC(C = C, gamma = gamma, kernel = 'rbf', random_state = rdm)\n",
    "\n",
    "                CV_perf = [] \n",
    "                # kf has 2 outputs : train and test\n",
    "                for train, test in kf:\n",
    "\n",
    "                    train_fold, test_fold, train_output, test_output = \\\n",
    "                            X_train.iloc[train], X_train.iloc[test], y_train.iloc[train], y_train.iloc[test]\n",
    "\n",
    "                    clf.fit(train_fold, train_output)\n",
    "                    pred_test = clf.predict(test_fold)\n",
    "\n",
    "                    CV_perf.append(accuracy_score(test_output, pred_test))\n",
    "\n",
    "                mean_perf[(Cpow,Gpow)] = np.mean(CV_perf)\n",
    "\n",
    "\n",
    "    #### Step 5 : Select best classifier \n",
    "    # get key with maximum value\n",
    "    max_key = max(mean_perf, key=lambda i: mean_perf[i])\n",
    "    best_C = 10**max_key[0]\n",
    "    best_gamma = 10**max_key[1]\n",
    "    max_accu = round(float(mean_perf[max_key]),3)\n",
    "\n",
    "\n",
    "    #### Step 6 : Fit new model on entire training set and test it\n",
    "    clf = svm.SVC(C = best_C, gamma = best_gamma, kernel = 'rbf', random_state = rdm)\n",
    "    clf.fit(X_train, y_train)\n",
    "    pred_test = clf.predict(X_test)\n",
    "    test_perf = float(accuracy_score(y_test, pred_test))\n",
    "\n",
    "    return(test_perf)\n"
   ]
  },
  {
   "cell_type": "code",
   "execution_count": 382,
   "metadata": {
    "collapsed": false
   },
   "outputs": [],
   "source": [
    "test_perf = []\n",
    "for i in range(50):\n",
    "    test_perf.append(SVM_test_performance(0.7,i))"
   ]
  },
  {
   "cell_type": "code",
   "execution_count": 383,
   "metadata": {
    "collapsed": false
   },
   "outputs": [
    {
     "name": "stdout",
     "output_type": "stream",
     "text": [
      "After repeating 50 times the same experiment on different samples, we get an average performance of 0.962\n",
      "and a standard deviation of 0.011 on the testing set.\n"
     ]
    }
   ],
   "source": [
    "mean_test_perf = np.mean(test_perf)\n",
    "std_test_perf = np.std(test_perf)\n",
    "\n",
    "print('After repeating 50 times the same experiment on different samples, we get an average performance of ' + \\\n",
    "     str(round(mean_test_perf,3)) + '\\nand a standard deviation of ' + str(round(std_test_perf,3)) + \\\n",
    "     ' on the testing set.')"
   ]
  },
  {
   "cell_type": "markdown",
   "metadata": {},
   "source": [
    "## Question c - Repeat the previous procedure for several values of t"
   ]
  },
  {
   "cell_type": "code",
   "execution_count": 384,
   "metadata": {
    "collapsed": false
   },
   "outputs": [],
   "source": [
    "perf = dict()\n",
    "\n",
    "for i in range(10):\n",
    "    split_ratio = round(0.5 + 0.05*i,2)\n",
    "    perf[split_ratio] = []\n",
    "    \n",
    "    test_perf = []\n",
    "    for i in range(50):\n",
    "        test_perf.append(SVM_test_performance(split_ratio,i))\n",
    "    \n",
    "    perf[split_ratio].append(np.mean(test_perf))\n",
    "    perf[split_ratio].append(np.std(test_perf))"
   ]
  },
  {
   "cell_type": "code",
   "execution_count": 385,
   "metadata": {
    "collapsed": false
   },
   "outputs": [
    {
     "data": {
      "text/plain": [
       "{0.5: [0.96440000000000015, 0.0059716336260076542],\n",
       " 0.55: [0.96438095238095234, 0.0085015375130422007],\n",
       " 0.6: [0.96342857142857152, 0.0085880790658223564],\n",
       " 0.65: [0.9641632653061224, 0.010139879659880986],\n",
       " 0.7: [0.96199999999999986, 0.011044745110586437],\n",
       " 0.75: [0.96240000000000014, 0.012207190921914897],\n",
       " 0.8: [0.96242857142857152, 0.01497003810336923],\n",
       " 0.85: [0.96438095238095212, 0.017950296708618436],\n",
       " 0.9: [0.96685714285714264, 0.019046666642855963],\n",
       " 0.95: [0.95999999999999996, 0.02740475156178698]}"
      ]
     },
     "execution_count": 385,
     "metadata": {},
     "output_type": "execute_result"
    }
   ],
   "source": [
    "perf"
   ]
  },
  {
   "cell_type": "code",
   "execution_count": 462,
   "metadata": {
    "collapsed": false,
    "scrolled": false
   },
   "outputs": [
    {
     "data": {
      "image/png": "[encoded data removed]",
      "text/plain": [
       "<matplotlib.figure.Figure at 0x10edc0b00>"
      ]
     },
     "metadata": {},
     "output_type": "display_data"
    }
   ],
   "source": [
    "plt.figure(figsize=(20, 10)) \n",
    "\n",
    "split_ratio = list(perf.keys())\n",
    "\n",
    "test_mean = []\n",
    "test_std = []\n",
    "\n",
    "for i in range(len(perf)):\n",
    "    test_mean.append(list(perf.values())[i][0])\n",
    "    test_std.append(2*list(perf.values())[i][1]) # 95% confidence intervals\n",
    "\n",
    "    \n",
    "plt.errorbar(split_ratio, test_mean, test_std, linestyle='None', fmt='-o', ecolor = 'red', markersize='10', elinewidth=2)\n",
    "plt.title('\\nTest-set performance averaged on 50 random experiments for different split percentages \\\n",
    "          \\n95% confidence intervals around the estimated average performance.\\\n",
    "          \\n\\n Model : SVM radial basis function \\\n",
    "          \\n  \\n', fontsize = 17)  \n",
    "plt.ylabel('Test-set accuracy', fontsize = 15)\n",
    "plt.xlabel('Split ratio for training set (%)', fontsize = 15)\n",
    "plt.yticks(fontsize = 14)\n",
    "plt.xticks(fontsize = 14)\n",
    "\n",
    "plt.show()"
   ]
  },
  {
   "cell_type": "code",
   "execution_count": null,
   "metadata": {
    "collapsed": true
   },
   "outputs": [],
   "source": []
  }
 ],
 "metadata": {
  "kernelspec": {
   "display_name": "Python 3",
   "language": "python",
   "name": "python3"
  },
  "language_info": {
   "codemirror_mode": {
    "name": "ipython",
    "version": 3
   },
   "file_extension": ".py",
   "mimetype": "text/x-python",
   "name": "python",
   "nbconvert_exporter": "python",
   "pygments_lexer": "ipython3",
   "version": "3.4.3"
  }
 },
 "nbformat": 4,
 "nbformat_minor": 0
}
