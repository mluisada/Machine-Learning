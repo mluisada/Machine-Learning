{
 "cells": [
  {
   "cell_type": "markdown",
   "metadata": {},
   "source": [
    "## PageRank algorithm"
   ]
  },
  {
   "cell_type": "code",
   "execution_count": 10,
   "metadata": {
    "collapsed": false
   },
   "outputs": [],
   "source": [
    "import numpy as np\n",
    "from numpy.linalg import norm\n",
    "\n",
    "\n",
    "def PageRank(Q, epsilon):\n",
    "    \n",
    "    d = Q.shape[0]\n",
    "    Qbar = (1 - epsilon)*Q + epsilon*np.ones((d,d))/d\n",
    "    \n",
    "    mu = np.ones(d)/d\n",
    "    delta = np.linalg.norm(mu,1)\n",
    "    \n",
    "    while delta > epsilon :\n",
    "        old = mu\n",
    "        mu = np.dot(mu,Qbar)\n",
    "        delta = norm(mu - old,1)\n",
    "        \n",
    "    return(mu)"
   ]
  },
  {
   "cell_type": "code",
   "execution_count": 11,
   "metadata": {
    "collapsed": false
   },
   "outputs": [
    {
     "data": {
      "text/plain": [
       "array([ 0.18925833,  0.40260833,  0.40813333])"
      ]
     },
     "execution_count": 11,
     "metadata": {},
     "output_type": "execute_result"
    }
   ],
   "source": [
    "Q = np.array([[0.2,0.3,0.5], [0.1,0,0.9], [0.2,0.8,0]])\n",
    "epsilon = 0.15\n",
    "\n",
    "\n",
    "PageRank(Q, 0.15)"
   ]
  },
  {
   "cell_type": "code",
   "execution_count": 12,
   "metadata": {
    "collapsed": false
   },
   "outputs": [
    {
     "data": {
      "text/plain": [
       "array([  3.99591000e-01,   2.00084925e-01,   3.99740824e-01,\n",
       "         1.66666667e-04,   2.49916667e-04,   1.66666667e-04])"
      ]
     },
     "execution_count": 12,
     "metadata": {},
     "output_type": "execute_result"
    }
   ],
   "source": [
    "Q = np.array(  [[0 , 0.5 , 0.5 , 0 , 0 , 0 ],\n",
    "                [0 , 0 , 1 , 0 , 0 , 0 ],\n",
    "                [ 1 , 0 , 0 , 0 , 0 , 0  ],\n",
    "                [ 0.5 , 0 , 0.5 , 0 , 0 , 0 ],\n",
    "                [0 , 0 , 1 , 0 , 0 , 0 ],\n",
    "                [ 0 , 0.5 , 0 , 0 , 0.5 , 0 ]])\n",
    "epsilon = 0.15\n",
    "\n",
    "\n",
    "PageRank(Q, 0.001)"
   ]
  },
  {
   "cell_type": "code",
   "execution_count": null,
   "metadata": {
    "collapsed": true
   },
   "outputs": [],
   "source": []
  }
 ],
 "metadata": {
  "kernelspec": {
   "display_name": "Python 3",
   "language": "python",
   "name": "python3"
  },
  "language_info": {
   "codemirror_mode": {
    "name": "ipython",
    "version": 3
   },
   "file_extension": ".py",
   "mimetype": "text/x-python",
   "name": "python",
   "nbconvert_exporter": "python",
   "pygments_lexer": "ipython3",
   "version": "3.4.4"
  }
 },
 "nbformat": 4,
 "nbformat_minor": 0
}
