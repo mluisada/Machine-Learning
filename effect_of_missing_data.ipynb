{
 "cells": [
  {
   "cell_type": "markdown",
   "metadata": {},
   "source": [
    "HELP FROM :\n",
    "- How to generate bivariate distributions : https://www2.stat.duke.edu/courses/Spring12/sta104.1/Lectures/Lec22.pdf\n",
    "- Use MCAR, MAR, etc : http://stronginference.com/missing-data-imputation.html"
   ]
  },
  {
   "cell_type": "code",
   "execution_count": 193,
   "metadata": {
    "collapsed": false
   },
   "outputs": [
    {
     "name": "stdout",
     "output_type": "stream",
     "text": [
      ".....................................................\n",
      "       Linear regression with all observations       \n",
      ".....................................................\n",
      "The coefficient corresponding to X is -0.00735730853033\n",
      "The intercept is 118.24457467\n",
      "\n",
      " \n",
      "\n",
      ".............................................\n",
      "       Missing Completely At Random (MCAR)       \n",
      ".............................................\n",
      "The coefficient corresponding to X is 0.104304280467\n",
      "The intercept is 89.4902439806\n"
     ]
    }
   ],
   "source": [
    "#### The effect of missing data ####\n",
    "\n",
    "import numpy as np\n",
    "from sklearn import linear_model\n",
    "import random\n",
    "import math\n",
    "import copy # in order to copy an array or list without modifying it\n",
    "\n",
    "\n",
    "### a. Preliminaries\n",
    "mean = [125, 125]\n",
    "cov = [[625, 375], [375, 625]]\n",
    "\n",
    "\n",
    "## STEP 1 : Generate 50 data points from the bivariate distribution\n",
    "X, Y = list(), list()\n",
    "\n",
    "np.random.seed(1)\n",
    "\n",
    "for i in range(50): \n",
    "    X.append(np.random.multivariate_normal(mean, cov)[0])\n",
    "    Y.append(np.random.multivariate_normal(mean, cov)[1])    \n",
    "\n",
    "data = np.asarray([X,Y])\n",
    "  \n",
    "    \n",
    "\n",
    "## STEP 2 : Regress Y on X with an intercept term. Compute the coefficient corresponding to X.\n",
    "\n",
    "# reshape explanatory variable X\n",
    "X = data[0].reshape(50,1)\n",
    "\n",
    "# fit linear regression\n",
    "lm = linear_model.LinearRegression(fit_intercept=True)\n",
    "lm.fit(X, Y)\n",
    "\n",
    "print('.....................................................\\n \\\n",
    "      Linear regression with all observations \\\n",
    "      \\n.....................................................')\n",
    "print('The coefficient corresponding to X is ' + str(lm.fit(X, Y).coef_[0]))\n",
    "print('The intercept is ' + str(lm.fit(X, Y).intercept_))\n",
    "\n",
    "\n",
    "\n",
    "\n",
    "## STEP 3 : Same question when using MCAR model. \n",
    "alpha = 0.73\n",
    "Y_missing = random.sample(Y, math.floor(50*alpha))\n",
    "\n",
    "data_MCAR = np.empty((0,2))\n",
    "for i in range(50):\n",
    "    if data[1,i] not in Y_missing:\n",
    "        data_MCAR = np.append(data_MCAR, data[:,i])\n",
    "\n",
    "data_MCAR.resize(len(data_MCAR)//2, 2)\n",
    "\n",
    "\n",
    "X_MCAR = data_MCAR[:,0] \n",
    "X_MCAR = X_MCAR.reshape(len(X_MCAR),1)\n",
    "\n",
    "Y_MCAR = data_MCAR[:,1]       \n",
    "\n",
    "lm_MCAR = linear_model.LinearRegression(fit_intercept=True)\n",
    "lm_MCAR.fit(X_MCAR, Y_MCAR)\n",
    "\n",
    "print('\\n \\n')\n",
    "print('.............................................\\n \\\n",
    "      Missing Completely At Random (MCAR) \\\n",
    "      \\n.............................................')\n",
    "\n",
    "print('The coefficient corresponding to X is ' + str(lm_MCAR.fit(X_MCAR, Y_MCAR).coef_[0]))\n",
    "print('The intercept is ' + str(lm_MCAR.fit(X_MCAR, Y_MCAR).intercept_))\n",
    "        \n",
    "\n",
    "\n",
    "    \n"
   ]
  },
  {
   "cell_type": "code",
   "execution_count": 51,
   "metadata": {
    "collapsed": false
   },
   "outputs": [],
   "source": [
    "       \n",
    "## STEP 4 : Same question when using MAR model. \n",
    "data_MAR = copy.copy(data)\n",
    "\n",
    "for i in range(50):\n",
    "    if data_MAR[0,i] <= 140 :\n",
    "        data_MAR[1,i] = np.nan\n",
    "        \n",
    "\n",
    "        \n",
    "## STEP 5 : Same question when using MNAR model. \n",
    "data_MNAR = copy.copy(data)\n",
    "\n",
    "for i in range(50):\n",
    "    if data_MNAR[1,i] <= 140 :\n",
    "        data_MNAR[1,i] = np.nan"
   ]
  },
  {
   "cell_type": "code",
   "execution_count": 52,
   "metadata": {
    "collapsed": true
   },
   "outputs": [],
   "source": []
  },
  {
   "cell_type": "code",
   "execution_count": 53,
   "metadata": {
    "collapsed": false
   },
   "outputs": [],
   "source": []
  },
  {
   "cell_type": "code",
   "execution_count": null,
   "metadata": {
    "collapsed": true
   },
   "outputs": [],
   "source": []
  }
 ],
 "metadata": {
  "kernelspec": {
   "display_name": "Python 3",
   "language": "python",
   "name": "python3"
  },
  "language_info": {
   "codemirror_mode": {
    "name": "ipython",
    "version": 3
   },
   "file_extension": ".py",
   "mimetype": "text/x-python",
   "name": "python",
   "nbconvert_exporter": "python",
   "pygments_lexer": "ipython3",
   "version": "3.4.3"
  }
 },
 "nbformat": 4,
 "nbformat_minor": 0
}
